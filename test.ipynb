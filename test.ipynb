{
 "cells": [
  {
   "cell_type": "code",
   "execution_count": 1,
   "metadata": {},
   "outputs": [
    {
     "name": "stdout",
     "output_type": "stream",
     "text": [
      "{'response': \" I'm a 6th grader from Humane in Shandong, I want to learn chemistry but no idea how. Well.. I don't know how to learn chemistry, I don't know what books to read, and I don't know how to solve chemistry problems: log ing\\n\\nSince you're 6th grade student, I assume you are new to middle school high school chemistry classes.\\n\\nFirst of all, you need some familiarity with concepts that are commonly used to convey information and\"}\n"
     ]
    }
   ],
   "source": [
    "import requests\n",
    "\n",
    "API_URL = \"http://localhost:5000/generate\"\n",
    "prompt = \"Hello, world!\"\n",
    "response = requests.post(API_URL, json={\"prompt\": prompt})\n",
    "print(response.json())\n"
   ]
  }
 ],
 "metadata": {
  "kernelspec": {
   "display_name": "pytorch",
   "language": "python",
   "name": "python3"
  },
  "language_info": {
   "codemirror_mode": {
    "name": "ipython",
    "version": 3
   },
   "file_extension": ".py",
   "mimetype": "text/x-python",
   "name": "python",
   "nbconvert_exporter": "python",
   "pygments_lexer": "ipython3",
   "version": "3.11.9"
  }
 },
 "nbformat": 4,
 "nbformat_minor": 2
}
